{
 "cells": [
  {
   "cell_type": "markdown",
   "metadata": {},
   "source": [
    "# Discussion and Conclusions"
   ]
  },
  {
   "cell_type": "markdown",
   "metadata": {},
   "source": [
    "## Discussion of the Results"
   ]
  },
  {
   "cell_type": "markdown",
   "metadata": {},
   "source": [
    "* What we have done (current vs future). Say future is much more challenging (dropped from above 90% to 85%). \n",
    "\n",
    "* Talk about the weighting. \n",
    "\n",
    "* Feature importance (implication to the medical community). Suggested feature subset and number of visits"
   ]
  },
  {
   "cell_type": "markdown",
   "metadata": {},
   "source": [
    "## Possible Improvements and Future Work \n",
    "\n",
    "* Did not find impact of imaging data (although it is a hot topic). Missing data?\n",
    "\n",
    "* Some of the drawbacks with our models (not directly predicting + extrapolating). talk about the tricky part of predicting CDRSB and diagnosis based on an engineered response variable (overall slope). Two-step prediction. Missing data (throwing a lot of the data)\n"
   ]
  }
 ],
 "metadata": {
  "kernelspec": {
   "display_name": "Python 3",
   "language": "python",
   "name": "python3"
  },
  "language_info": {
   "codemirror_mode": {
    "name": "ipython",
    "version": 3
   },
   "file_extension": ".py",
   "mimetype": "text/x-python",
   "name": "python",
   "nbconvert_exporter": "python",
   "pygments_lexer": "ipython3",
   "version": "3.7.0"
  }
 },
 "nbformat": 4,
 "nbformat_minor": 2
}
