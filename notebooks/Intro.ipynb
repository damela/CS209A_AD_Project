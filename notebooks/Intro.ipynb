{
 "cells": [
  {
   "cell_type": "markdown",
   "metadata": {},
   "source": [
    "# Introduction"
   ]
  },
  {
   "cell_type": "markdown",
   "metadata": {},
   "source": [
    "## Alzheimer's Disease Definition"
   ]
  },
  {
   "cell_type": "markdown",
   "metadata": {},
   "source": [
    "Alzheimer's Disease (AD) is an irreversible, progressive brain disorder that affects people’s memory, cognitive thinking, and ability to carry out simple tasks. In severe cases, people with AD have problems recognizing family and friends, learning new things, and carrying out multi-step tasks such as getting dressed. The US Department of Health and Human Services estimates that there are there may be more than 5.5 million people in the US with AD, ranked as the sixth leading cause of death in the US, and is the third leading cause of death for older people. The estimated national cost of patient care for AD and other types of dementia was $236 billion in 2016  (NIA, 2017).\n",
    "\n",
    "Despite the large population affected by AD, currently, there is no drug or any other intervention that can successfully treat it. Current approaches focus on helping people maintain mental function, manage behavioral symptoms, and slow down certain problems, such as memory loss  (NIA, 2017).\n",
    "\n",
    "As a result, early diagnosis is crucial in dealing with AD. However, early AD diagnosis is non-trivial. Memory problems are typically one of the first signs of cognitive impairment related to AD. Some people with memory problems have a condition called mild cognitive impairment (MCI). People with MCI have more memory problems than normal for their age, but their symptoms do not interfere with their everyday lives. Older people with MCI are at greater risk of developing AD, but not all of them do. Some may even go back to cognitive normal (CN). In addition, the ability to detect AD prior to significant memory problems can also be greatly helpful  (NIA, 2017).\n",
    "\n",
    "To diagnose AD, doctors typically carry out some or all of the following procedures:\n",
    "Ask the person and a family member or friend questions about overall health, past medical problems, ability to carry out daily activities, and changes in behavior and personality\n",
    "Conduct tests of memory, problem-solving, attention, counting, and language\n",
    "Carry out standard medical tests, such as blood and urine tests, to identify other possible causes of the problem\n",
    "Perform brain scans, such as computed tomography (CT), magnetic resonance imaging (MRI), or positron emission tomography (PET), to rule out other possible causes for symptoms.\n",
    "These tests may be repeated to give doctors information about how a person’s memory and other cognitive functions are changing over time. However, AD can be definitely diagnosed only after death, by linking clinical measures with an examination of brain tissue in an autopsy  (NIA, 2017).\n",
    "\n",
    "\n",
    "The causes of AD has not been fully discovered but are likely to be a combination of genetic, environmental, and lifestyle factors. While scientists are still uncertain about the precise cause of AD, research has identified strong indicators for the disease. These indicators are typically biomarkers, which are measurements of what is happening inside the living body, shown by the results of laboratory and imaging tests. Biomarkers that are strong indication of AD include but are not limited to: proteins such as Amyloid-Beta protein (also referred to as Aβ protein or amyloid plaque), and tau protein[3]; functional area (such as hippocampus) or protein concentration (such as Aβ) shown in CT, MRI, and PET (and other special types of such) scans; other results from fluid tests, blood tests.\n",
    "\n",
    "In answering the question of if a patient will have AD, in this project, we hope to adopt a data-driven method to make such prediction based on biomarkers as well as the results from typical diagnosis procedure results.\n",
    "\n",
    "\n",
    "\n",
    "[1]https://www.nia.nih.gov/health/alzheimers-disease-fact-sheet\n",
    "[2]https://www.nia.nih.gov/health/biomarkers-dementia-detection-and-research#types\n",
    "[3]https://www.ncbi.nlm.nih.gov/pmc/articles/PMC2685260/?fbclid=IwAR3E4Jw50RGeg8ubqoCXWXP2w0u4JdEXb6LVThYlcZfWxSq1B9IwDc88Sx4"
   ]
  },
  {
   "cell_type": "markdown",
   "metadata": {},
   "source": [
    "## How to Model Longitudinal Data in Medical Studies"
   ]
  },
  {
   "cell_type": "markdown",
   "metadata": {},
   "source": [
    "Connor's part about how to deal with longitudinal data."
   ]
  }
 ],
 "metadata": {
  "kernelspec": {
   "display_name": "Python 3",
   "language": "python",
   "name": "python3"
  },
  "language_info": {
   "codemirror_mode": {
    "name": "ipython",
    "version": 3
   },
   "file_extension": ".py",
   "mimetype": "text/x-python",
   "name": "python",
   "nbconvert_exporter": "python",
   "pygments_lexer": "ipython3",
   "version": "3.6.6"
  }
 },
 "nbformat": 4,
 "nbformat_minor": 2
}
